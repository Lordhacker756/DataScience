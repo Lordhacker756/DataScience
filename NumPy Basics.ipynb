{
 "cells": [
  {
   "cell_type": "markdown",
   "id": "bf557a78",
   "metadata": {},
   "source": [
    "# Basic Functions"
   ]
  },
  {
   "cell_type": "code",
   "execution_count": 1,
   "id": "0fd205b2",
   "metadata": {},
   "outputs": [
    {
     "name": "stdout",
     "output_type": "stream",
     "text": [
      "[[ 1  2  3  4  5]\n",
      " [ 6  7  8  9 10]]\n"
     ]
    }
   ],
   "source": [
    "import numpy as np\n",
    "array1 = np.array([[1,2,3,4,5],[6,7,8,9,10]])\n",
    "print(array1)"
   ]
  },
  {
   "cell_type": "code",
   "execution_count": 2,
   "id": "0529226b",
   "metadata": {},
   "outputs": [
    {
     "data": {
      "text/plain": [
       "(2, 5)"
      ]
     },
     "execution_count": 2,
     "metadata": {},
     "output_type": "execute_result"
    }
   ],
   "source": [
    "array1.shape"
   ]
  },
  {
   "cell_type": "code",
   "execution_count": 3,
   "id": "1d8ac463",
   "metadata": {},
   "outputs": [
    {
     "data": {
      "text/plain": [
       "dtype('int32')"
      ]
     },
     "execution_count": 3,
     "metadata": {},
     "output_type": "execute_result"
    }
   ],
   "source": [
    "array1.dtype"
   ]
  },
  {
   "cell_type": "markdown",
   "id": "89561872",
   "metadata": {},
   "source": [
    "#Arrays in numpy"
   ]
  },
  {
   "cell_type": "code",
   "execution_count": 4,
   "id": "c45735b4",
   "metadata": {},
   "outputs": [
    {
     "data": {
      "text/plain": [
       "array([[1., 1., 1., 1., 1.],\n",
       "       [1., 1., 1., 1., 1.],\n",
       "       [1., 1., 1., 1., 1.],\n",
       "       [1., 1., 1., 1., 1.],\n",
       "       [1., 1., 1., 1., 1.]])"
      ]
     },
     "execution_count": 4,
     "metadata": {},
     "output_type": "execute_result"
    }
   ],
   "source": [
    "np.ones((5,5))"
   ]
  },
  {
   "cell_type": "code",
   "execution_count": 5,
   "id": "c9d4a2e9",
   "metadata": {},
   "outputs": [
    {
     "data": {
      "text/plain": [
       "array([[         1,          4,         27,        256,       3125],\n",
       "       [     46656,     823543,   16777216,  387420489, 1410065408]],\n",
       "      dtype=int32)"
      ]
     },
     "execution_count": 5,
     "metadata": {},
     "output_type": "execute_result"
    }
   ],
   "source": [
    "array1**array1"
   ]
  },
  {
   "cell_type": "markdown",
   "id": "1a6d20ae",
   "metadata": {},
   "source": [
    "# Slicing In NumPy"
   ]
  },
  {
   "cell_type": "code",
   "execution_count": 6,
   "id": "54e6beef",
   "metadata": {},
   "outputs": [],
   "source": [
    "arr = np.array([1,2,3,4,5,6])"
   ]
  },
  {
   "cell_type": "markdown",
   "id": "7fe7819a",
   "metadata": {},
   "source": [
    "Slicing the elements from 1st to 4th we have, ⚠️This is a view of it not a copy,any change you do to this sliced part will reflect in the orignal array"
   ]
  },
  {
   "cell_type": "code",
   "execution_count": 7,
   "id": "c04241c9",
   "metadata": {},
   "outputs": [
    {
     "name": "stdout",
     "output_type": "stream",
     "text": [
      "[2 3 4]\n"
     ]
    }
   ],
   "source": [
    "sliced = arr[1:4]\n",
    "print(sliced)"
   ]
  },
  {
   "cell_type": "code",
   "execution_count": 8,
   "id": "6584cb72",
   "metadata": {},
   "outputs": [
    {
     "name": "stdout",
     "output_type": "stream",
     "text": [
      "[2 3 8]\n",
      "[1 2 3 8 5 6]\n"
     ]
    }
   ],
   "source": [
    "sliced[2] = 8\n",
    "print(sliced)\n",
    "print(arr)"
   ]
  },
  {
   "cell_type": "markdown",
   "id": "6c83efb8",
   "metadata": {},
   "source": [
    "This is what im talking about as sliced array was its part hence, changing the sliced part also changed the orignal array, to counter this problem we use , arr[1,4].copy(), this creates a copy and whatever change we do doesnt effect the main data"
   ]
  },
  {
   "cell_type": "code",
   "execution_count": 9,
   "id": "562b639f",
   "metadata": {},
   "outputs": [
    {
     "data": {
      "text/plain": [
       "array([[ 1,  2,  3,  4,  5],\n",
       "       [ 6,  7,  8,  9, 10]])"
      ]
     },
     "execution_count": 9,
     "metadata": {},
     "output_type": "execute_result"
    }
   ],
   "source": [
    "array1"
   ]
  }
 ],
 "metadata": {
  "kernelspec": {
   "display_name": "Python 3 (ipykernel)",
   "language": "python",
   "name": "python3"
  },
  "language_info": {
   "codemirror_mode": {
    "name": "ipython",
    "version": 3
   },
   "file_extension": ".py",
   "mimetype": "text/x-python",
   "name": "python",
   "nbconvert_exporter": "python",
   "pygments_lexer": "ipython3",
   "version": "3.9.7"
  }
 },
 "nbformat": 4,
 "nbformat_minor": 5
}
