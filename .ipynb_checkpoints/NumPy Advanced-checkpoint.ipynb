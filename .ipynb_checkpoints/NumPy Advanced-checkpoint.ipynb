{
 "cells": [
  {
   "cell_type": "markdown",
   "id": "34ab5ff1",
   "metadata": {},
   "source": [
    "# Some More Functions In Numpy"
   ]
  },
  {
   "cell_type": "code",
   "execution_count": 1,
   "id": "3a60aeea",
   "metadata": {},
   "outputs": [],
   "source": [
    "import numpy as np"
   ]
  },
  {
   "cell_type": "code",
   "execution_count": 2,
   "id": "519184bb",
   "metadata": {},
   "outputs": [],
   "source": [
    "a = np.array([[1,2,3],[4,5,6]])"
   ]
  },
  {
   "cell_type": "markdown",
   "id": "4c9a311d",
   "metadata": {},
   "source": [
    "Axes in numpy, axis = 0 works columnwise ie Y-Axis, eg\n",
    "let's add the above two D matrix columnwise ie 1+4, 2+5 and so on, similarly axis = 1 , works on rows ie X-Axis"
   ]
  },
  {
   "cell_type": "code",
   "execution_count": 3,
   "id": "9d24e40d",
   "metadata": {},
   "outputs": [
    {
     "data": {
      "text/plain": [
       "array([5, 7, 9])"
      ]
     },
     "execution_count": 3,
     "metadata": {},
     "output_type": "execute_result"
    }
   ],
   "source": [
    "a.sum(axis=0)"
   ]
  },
  {
   "cell_type": "markdown",
   "id": "378e9cb1",
   "metadata": {},
   "source": [
    "Here you can see how we got our sum"
   ]
  },
  {
   "cell_type": "code",
   "execution_count": 4,
   "id": "33668d68",
   "metadata": {},
   "outputs": [],
   "source": [
    "b = np.array([[7,8,9],[2,8,0]])"
   ]
  },
  {
   "cell_type": "markdown",
   "id": "cafc9a52",
   "metadata": {},
   "source": [
    "## Dot And Cross Product in matrix with  NumPy"
   ]
  },
  {
   "cell_type": "code",
   "execution_count": 5,
   "id": "e15e686c",
   "metadata": {},
   "outputs": [
    {
     "data": {
      "text/plain": [
       "array([[ 50,  18],\n",
       "       [122,  48]])"
      ]
     },
     "execution_count": 5,
     "metadata": {},
     "output_type": "execute_result"
    }
   ],
   "source": [
    "np.dot(a,b.transpose())"
   ]
  },
  {
   "cell_type": "code",
   "execution_count": 6,
   "id": "86b3f33e",
   "metadata": {},
   "outputs": [
    {
     "data": {
      "text/plain": [
       "array([[ -6,  12,  -6],\n",
       "       [-48,  12,  22]])"
      ]
     },
     "execution_count": 6,
     "metadata": {},
     "output_type": "execute_result"
    }
   ],
   "source": [
    "np.cross(a,b)"
   ]
  },
  {
   "cell_type": "markdown",
   "id": "32b1d41c",
   "metadata": {},
   "source": [
    "## Sorting in NumPy"
   ]
  },
  {
   "cell_type": "code",
   "execution_count": 7,
   "id": "5641408d",
   "metadata": {},
   "outputs": [
    {
     "data": {
      "text/plain": [
       "array([[1, 2, 3],\n",
       "       [4, 5, 6]])"
      ]
     },
     "execution_count": 7,
     "metadata": {},
     "output_type": "execute_result"
    }
   ],
   "source": [
    "np.sort(a)"
   ]
  },
  {
   "cell_type": "markdown",
   "id": "96205d75",
   "metadata": {},
   "source": [
    "## More Valuable Shit"
   ]
  },
  {
   "cell_type": "markdown",
   "id": "e5f664f4",
   "metadata": {},
   "source": [
    "Getting an array with elements till n "
   ]
  },
  {
   "cell_type": "code",
   "execution_count": 8,
   "id": "bd700a85",
   "metadata": {},
   "outputs": [],
   "source": [
    "carry = np.arange(12)"
   ]
  },
  {
   "cell_type": "code",
   "execution_count": 9,
   "id": "2bfb9f83",
   "metadata": {},
   "outputs": [
    {
     "data": {
      "text/plain": [
       "array([ 0,  1,  2,  3,  4,  5,  6,  7,  8,  9, 10, 11])"
      ]
     },
     "execution_count": 9,
     "metadata": {},
     "output_type": "execute_result"
    }
   ],
   "source": [
    "carry"
   ]
  },
  {
   "cell_type": "markdown",
   "id": "f593cbf4",
   "metadata": {},
   "source": [
    "Now lets do some weird shit, lets make this a 2x5 array, remember isme ulta likhenge"
   ]
  },
  {
   "cell_type": "code",
   "execution_count": 10,
   "id": "b8911ada",
   "metadata": {},
   "outputs": [],
   "source": [
    "copy_carry=carry.copy()\n",
    "copy_carry = copy_carry.reshape(4,3)"
   ]
  },
  {
   "cell_type": "markdown",
   "id": "0279dfbe",
   "metadata": {},
   "source": [
    "Lets print the sorted array as per the current index of elements in array"
   ]
  },
  {
   "cell_type": "code",
   "execution_count": 11,
   "id": "5d46a35c",
   "metadata": {},
   "outputs": [],
   "source": [
    "sarray = ([8,5,7,6,2,24,14,5,6,8,7])"
   ]
  },
  {
   "cell_type": "code",
   "execution_count": 12,
   "id": "10c078f6",
   "metadata": {},
   "outputs": [
    {
     "data": {
      "text/plain": [
       "array([ 4,  1,  7,  3,  8,  2, 10,  0,  9,  6,  5], dtype=int64)"
      ]
     },
     "execution_count": 12,
     "metadata": {},
     "output_type": "execute_result"
    }
   ],
   "source": [
    "np.argsort(sarray)"
   ]
  },
  {
   "cell_type": "markdown",
   "id": "7c6e65ba",
   "metadata": {},
   "source": [
    "These are the indexes jinke elements agar ek ke baad ek lagate jaoge to you'll get your output as a sorted array"
   ]
  },
  {
   "cell_type": "markdown",
   "id": "2dfffff7",
   "metadata": {},
   "source": [
    "Now again working with the indexes to do some more operations"
   ]
  },
  {
   "cell_type": "code",
   "execution_count": 13,
   "id": "aaaf65ab",
   "metadata": {},
   "outputs": [
    {
     "data": {
      "text/plain": [
       "4"
      ]
     },
     "execution_count": 13,
     "metadata": {},
     "output_type": "execute_result"
    }
   ],
   "source": [
    "np.argmax(sarray)\n",
    "np.argmin(sarray)"
   ]
  },
  {
   "cell_type": "code",
   "execution_count": 14,
   "id": "fd269de7",
   "metadata": {},
   "outputs": [
    {
     "data": {
      "text/plain": [
       "array([[0, 1, 2],\n",
       "       [0, 1, 2],\n",
       "       [0, 1, 2],\n",
       "       [0, 1, 2]], dtype=int64)"
      ]
     },
     "execution_count": 14,
     "metadata": {},
     "output_type": "execute_result"
    }
   ],
   "source": [
    "np.argsort(copy_carry)"
   ]
  }
 ],
 "metadata": {
  "kernelspec": {
   "display_name": "Python 3 (ipykernel)",
   "language": "python",
   "name": "python3"
  },
  "language_info": {
   "codemirror_mode": {
    "name": "ipython",
    "version": 3
   },
   "file_extension": ".py",
   "mimetype": "text/x-python",
   "name": "python",
   "nbconvert_exporter": "python",
   "pygments_lexer": "ipython3",
   "version": "3.9.7"
  }
 },
 "nbformat": 4,
 "nbformat_minor": 5
}
