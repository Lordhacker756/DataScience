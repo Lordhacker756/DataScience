{
 "cells": [
  {
   "cell_type": "code",
   "execution_count": 1,
   "id": "e9d1a2fb",
   "metadata": {},
   "outputs": [],
   "source": [
    "import pandas as pd"
   ]
  },
  {
   "cell_type": "markdown",
   "id": "87e7481a",
   "metadata": {},
   "source": [
    "Reading a CSV file with pandas"
   ]
  },
  {
   "cell_type": "code",
   "execution_count": 2,
   "id": "75ece391",
   "metadata": {},
   "outputs": [],
   "source": [
    "df = pd.read_csv('data.csv')"
   ]
  },
  {
   "cell_type": "code",
   "execution_count": 3,
   "id": "9c720ef3",
   "metadata": {
    "scrolled": true
   },
   "outputs": [
    {
     "data": {
      "text/html": [
       "<div>\n",
       "<style scoped>\n",
       "    .dataframe tbody tr th:only-of-type {\n",
       "        vertical-align: middle;\n",
       "    }\n",
       "\n",
       "    .dataframe tbody tr th {\n",
       "        vertical-align: top;\n",
       "    }\n",
       "\n",
       "    .dataframe thead th {\n",
       "        text-align: right;\n",
       "    }\n",
       "</style>\n",
       "<table border=\"1\" class=\"dataframe\">\n",
       "  <thead>\n",
       "    <tr style=\"text-align: right;\">\n",
       "      <th></th>\n",
       "      <th>Date</th>\n",
       "      <th>Open</th>\n",
       "      <th>High</th>\n",
       "      <th>Low</th>\n",
       "      <th>Close</th>\n",
       "      <th>Shares Traded</th>\n",
       "      <th>Turnover (Rs. Cr)</th>\n",
       "    </tr>\n",
       "  </thead>\n",
       "  <tbody>\n",
       "    <tr>\n",
       "      <th>0</th>\n",
       "      <td>02-Aug-2021</td>\n",
       "      <td>15874.90</td>\n",
       "      <td>15892.90</td>\n",
       "      <td>15834.65</td>\n",
       "      <td>15885.15</td>\n",
       "      <td>244847433</td>\n",
       "      <td>20766.99</td>\n",
       "    </tr>\n",
       "    <tr>\n",
       "      <th>1</th>\n",
       "      <td>03-Aug-2021</td>\n",
       "      <td>15951.55</td>\n",
       "      <td>16146.90</td>\n",
       "      <td>15914.35</td>\n",
       "      <td>16130.75</td>\n",
       "      <td>341289658</td>\n",
       "      <td>26373.24</td>\n",
       "    </tr>\n",
       "    <tr>\n",
       "      <th>2</th>\n",
       "      <td>04-Aug-2021</td>\n",
       "      <td>16195.25</td>\n",
       "      <td>16290.20</td>\n",
       "      <td>16176.15</td>\n",
       "      <td>16258.80</td>\n",
       "      <td>427337644</td>\n",
       "      <td>32434.78</td>\n",
       "    </tr>\n",
       "    <tr>\n",
       "      <th>3</th>\n",
       "      <td>05-Aug-2021</td>\n",
       "      <td>16288.95</td>\n",
       "      <td>16349.45</td>\n",
       "      <td>16210.30</td>\n",
       "      <td>16294.60</td>\n",
       "      <td>418174517</td>\n",
       "      <td>31386.78</td>\n",
       "    </tr>\n",
       "    <tr>\n",
       "      <th>4</th>\n",
       "      <td>06-Aug-2021</td>\n",
       "      <td>16304.40</td>\n",
       "      <td>16336.75</td>\n",
       "      <td>16223.30</td>\n",
       "      <td>16238.20</td>\n",
       "      <td>320087281</td>\n",
       "      <td>24716.17</td>\n",
       "    </tr>\n",
       "  </tbody>\n",
       "</table>\n",
       "</div>"
      ],
      "text/plain": [
       "          Date      Open      High       Low     Close  Shares Traded  \\\n",
       "0  02-Aug-2021  15874.90  15892.90  15834.65  15885.15      244847433   \n",
       "1  03-Aug-2021  15951.55  16146.90  15914.35  16130.75      341289658   \n",
       "2  04-Aug-2021  16195.25  16290.20  16176.15  16258.80      427337644   \n",
       "3  05-Aug-2021  16288.95  16349.45  16210.30  16294.60      418174517   \n",
       "4  06-Aug-2021  16304.40  16336.75  16223.30  16238.20      320087281   \n",
       "\n",
       "   Turnover (Rs. Cr)  \n",
       "0           20766.99  \n",
       "1           26373.24  \n",
       "2           32434.78  \n",
       "3           31386.78  \n",
       "4           24716.17  "
      ]
     },
     "execution_count": 3,
     "metadata": {},
     "output_type": "execute_result"
    }
   ],
   "source": [
    "df.head()"
   ]
  },
  {
   "cell_type": "markdown",
   "id": "c0b92b14",
   "metadata": {},
   "source": [
    "Extracting a particular column 😈MA Analysis isse kar sakte"
   ]
  },
  {
   "cell_type": "code",
   "execution_count": 4,
   "id": "8595c55d",
   "metadata": {
    "scrolled": true
   },
   "outputs": [
    {
     "data": {
      "text/plain": [
       "0     15885.15\n",
       "1     16130.75\n",
       "2     16258.80\n",
       "3     16294.60\n",
       "4     16238.20\n",
       "5     16258.25\n",
       "6     16280.10\n",
       "7     16282.25\n",
       "8     16364.40\n",
       "9     16529.10\n",
       "10    16563.05\n",
       "11    16614.60\n",
       "12    16568.85\n",
       "13    16450.50\n",
       "14    16496.45\n",
       "15    16624.60\n",
       "16    16634.65\n",
       "17    16636.90\n",
       "18    16705.20\n",
       "19    16931.05\n",
       "20    17132.20\n",
       "21    17076.25\n",
       "22    17234.15\n",
       "23    17323.60\n",
       "24    17377.80\n",
       "25    17362.10\n",
       "26    17353.50\n",
       "27    17369.25\n",
       "28    17355.30\n",
       "29    17380.00\n",
       "30    17519.45\n",
       "31    17629.50\n",
       "32    17585.15\n",
       "33    17396.90\n",
       "34    17562.00\n",
       "35    17546.65\n",
       "36    17822.95\n",
       "37    17853.20\n",
       "38    17855.10\n",
       "39    17748.60\n",
       "40    17711.30\n",
       "41    17618.15\n",
       "42    17532.05\n",
       "43    17691.25\n",
       "44    17822.30\n",
       "45    17646.00\n",
       "46    17790.35\n",
       "47    17895.20\n",
       "48    17945.95\n",
       "49    17991.95\n",
       "50    18161.75\n",
       "Name: Close, dtype: float64"
      ]
     },
     "execution_count": 4,
     "metadata": {},
     "output_type": "execute_result"
    }
   ],
   "source": [
    "exp_df = df['Close']\n",
    "exp_df"
   ]
  },
  {
   "cell_type": "markdown",
   "id": "80d99ce8",
   "metadata": {},
   "source": [
    "## Exporting a dataFrame to CSV"
   ]
  },
  {
   "cell_type": "code",
   "execution_count": 5,
   "id": "2098137b",
   "metadata": {},
   "outputs": [],
   "source": [
    "exp_df.to_csv(\"Export.csv\", index = False)"
   ]
  },
  {
   "cell_type": "code",
   "execution_count": 6,
   "id": "f8237246",
   "metadata": {},
   "outputs": [
    {
     "data": {
      "text/html": [
       "<div>\n",
       "<style scoped>\n",
       "    .dataframe tbody tr th:only-of-type {\n",
       "        vertical-align: middle;\n",
       "    }\n",
       "\n",
       "    .dataframe tbody tr th {\n",
       "        vertical-align: top;\n",
       "    }\n",
       "\n",
       "    .dataframe thead th {\n",
       "        text-align: right;\n",
       "    }\n",
       "</style>\n",
       "<table border=\"1\" class=\"dataframe\">\n",
       "  <thead>\n",
       "    <tr style=\"text-align: right;\">\n",
       "      <th></th>\n",
       "      <th>Close</th>\n",
       "    </tr>\n",
       "  </thead>\n",
       "  <tbody>\n",
       "    <tr>\n",
       "      <th>0</th>\n",
       "      <td>15885.15</td>\n",
       "    </tr>\n",
       "    <tr>\n",
       "      <th>1</th>\n",
       "      <td>16130.75</td>\n",
       "    </tr>\n",
       "    <tr>\n",
       "      <th>2</th>\n",
       "      <td>16258.80</td>\n",
       "    </tr>\n",
       "    <tr>\n",
       "      <th>3</th>\n",
       "      <td>16294.60</td>\n",
       "    </tr>\n",
       "    <tr>\n",
       "      <th>4</th>\n",
       "      <td>16238.20</td>\n",
       "    </tr>\n",
       "  </tbody>\n",
       "</table>\n",
       "</div>"
      ],
      "text/plain": [
       "      Close\n",
       "0  15885.15\n",
       "1  16130.75\n",
       "2  16258.80\n",
       "3  16294.60\n",
       "4  16238.20"
      ]
     },
     "execution_count": 6,
     "metadata": {},
     "output_type": "execute_result"
    }
   ],
   "source": [
    "new_df = pd.read_csv('Export.csv')\n",
    "new_df.head()"
   ]
  }
 ],
 "metadata": {
  "kernelspec": {
   "display_name": "Python 3 (ipykernel)",
   "language": "python",
   "name": "python3"
  },
  "language_info": {
   "codemirror_mode": {
    "name": "ipython",
    "version": 3
   },
   "file_extension": ".py",
   "mimetype": "text/x-python",
   "name": "python",
   "nbconvert_exporter": "python",
   "pygments_lexer": "ipython3",
   "version": "3.9.7"
  }
 },
 "nbformat": 4,
 "nbformat_minor": 5
}
